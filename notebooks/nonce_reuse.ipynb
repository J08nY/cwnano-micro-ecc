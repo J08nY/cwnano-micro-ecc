{
 "cells": [
  {
   "cell_type": "markdown",
   "id": "c4ea974a",
   "metadata": {},
   "source": [
    "# Nonce reuse attack"
   ]
  },
  {
   "cell_type": "markdown",
   "id": "d06e6a6c",
   "metadata": {},
   "source": [
    "Given two signatures $(r, s)$ and $(r, s')$ on two different messages $m$ and $m'$ that share the same nonce $k$ (hence also $r$) we can easily compute the private key.\n",
    "\n",
    "### Signature 1\n",
    "\n",
    "\\begin{align}\n",
    "r &\\equiv ([k]G)_x\\\\\n",
    "s &\\equiv k^{-1} (H(m) + r d)\n",
    "\\end{align}\n",
    "\n",
    "\n",
    "### Signature 2\n",
    "\n",
    "\\begin{align}\n",
    "r &\\equiv ([k]G)_x\\\\\n",
    "s' &\\equiv k^{-1} (H(m') + r d)\n",
    "\\end{align}\n",
    "\n",
    "\n",
    "### Key recovery\n",
    "\n",
    "\\begin{align}\n",
    "s &\\equiv k^{-1} (H(m) + r d)\\\\\n",
    "s' &\\equiv k^{-1} (H(m') + r d)\n",
    "\\end{align}\n",
    "\n",
    "\n",
    "Now subtract the equations from each other.\n",
    "\n",
    "$$ s - s' \\equiv k^{-1} (H(m) - H(m')) $$\n",
    "\n",
    "\n",
    "Then compute $k$.\n",
    "\n",
    "$$ k \\equiv \\frac{H(m) - H(m')}{s - s'} $$\n",
    "\n",
    "Pick an equation and recover the private key $d$.\n",
    "\n",
    "$$ d \\equiv \\frac{s k - H(m)}{r} $$"
   ]
  },
  {
   "cell_type": "code",
   "execution_count": null,
   "id": "5543342e",
   "metadata": {},
   "outputs": [],
   "source": [
    "\n"
   ]
  }
 ],
 "metadata": {
  "kernelspec": {
   "display_name": "Python 3 (ipykernel)",
   "language": "python",
   "name": "python3"
  },
  "language_info": {
   "codemirror_mode": {
    "name": "ipython",
    "version": 3
   },
   "file_extension": ".py",
   "mimetype": "text/x-python",
   "name": "python",
   "nbconvert_exporter": "python",
   "pygments_lexer": "ipython3",
   "version": "3.11.3"
  }
 },
 "nbformat": 4,
 "nbformat_minor": 5
}
