{
 "cells": [
  {
   "cell_type": "markdown",
   "id": "c4ea974a",
   "metadata": {},
   "source": [
    "# Nonce reuse attack"
   ]
  },
  {
   "cell_type": "markdown",
   "id": "d06e6a6c",
   "metadata": {},
   "source": [
    "Given two signatures $(r, s)$ and $(r, s')$ on two different messages $m$ and $m'$ that share the same nonce $k$ (hence also $r$) we can easily compute the private key.\n",
    "\n",
    "### Signature 1\n",
    "\n",
    "\\begin{align}\n",
    "r &\\equiv ([k]G)_x\\\\\n",
    "s &\\equiv k^{-1} (H(m) + r d)\n",
    "\\end{align}\n",
    "\n",
    "\n",
    "### Signature 2\n",
    "\n",
    "\\begin{align}\n",
    "r &\\equiv ([k]G)_x\\\\\n",
    "s' &\\equiv k^{-1} (H(m') + r d)\n",
    "\\end{align}\n",
    "\n",
    "\n",
    "### Key recovery\n",
    "\n",
    "\\begin{align}\n",
    "s &\\equiv k^{-1} (H(m) + r d)\\\\\n",
    "s' &\\equiv k^{-1} (H(m') + r d)\n",
    "\\end{align}\n",
    "\n",
    "\n",
    "Now subtract the equations from each other.\n",
    "\n",
    "$$ s - s' \\equiv k^{-1} (H(m) - H(m')) $$\n",
    "\n",
    "\n",
    "Then compute $k$.\n",
    "\n",
    "$$ k \\equiv \\frac{H(m) - H(m')}{s - s'} $$\n",
    "\n",
    "Pick an equation and recover the private key $d$.\n",
    "\n",
    "$$ d \\equiv \\frac{s k - H(m)}{r} $$"
   ]
  },
  {
   "cell_type": "code",
   "execution_count": null,
   "id": "5543342e",
   "metadata": {},
   "outputs": [],
   "source": [
    "from hashlib import sha1\n",
    "from pyecsca.ec.params import get_params\n",
    "from pyecsca.ec.mod import Mod\n",
    "\n",
    "from client import DeviceTarget"
   ]
  },
  {
   "cell_type": "code",
   "execution_count": null,
   "id": "a0d4f8b9",
   "metadata": {},
   "outputs": [],
   "source": [
    "curve = get_params(\"nist\", \"P-192\", \"projective\")"
   ]
  },
  {
   "cell_type": "code",
   "execution_count": null,
   "id": "3348bd84",
   "metadata": {},
   "outputs": [],
   "source": [
    "target = DeviceTarget()\n",
    "\n",
    "target.timeout = 2000\n",
    "base_freq = 15000000\n",
    "target.scope.io.clkout = base_freq\n",
    "target.scope.adc.clk_freq = base_freq\n",
    "target.scope.adc.samples = 50000"
   ]
  },
  {
   "cell_type": "code",
   "execution_count": null,
   "id": "53d0b063",
   "metadata": {},
   "outputs": [],
   "source": [
    "target.flash(\"../micro-ecc-CWNANO.hex\")"
   ]
  },
  {
   "cell_type": "code",
   "execution_count": null,
   "id": "c67ed6d1",
   "metadata": {},
   "outputs": [],
   "source": [
    "target.connect()\n",
    "target.init_prng(bytes.fromhex(\"cafebabe\"))\n",
    "target.generate_keypair()\n",
    "pubkey = target.export()\n",
    "\n",
    "msg1 = b\"This is some text\"\n",
    "hash1 = sha1(msg1).digest()\n",
    "target.init_prng(bytes.fromhex(\"deadbeef\"))\n",
    "signature1 = target.sign(hash1)\n",
    "\n",
    "msg2 = b\"This is another text\"\n",
    "hash2 = sha1(msg2).digest()\n",
    "target.init_prng(bytes.fromhex(\"deadbeef\"))\n",
    "signature2 = target.sign(hash2)\n",
    "\n",
    "target.halt()\n",
    "target.disconnect()"
   ]
  },
  {
   "cell_type": "code",
   "execution_count": null,
   "id": "3e0a979d",
   "metadata": {},
   "outputs": [],
   "source": [
    "n = curve.order\n",
    "h1 = Mod(int.from_bytes(hash1, byteorder=\"big\"), n)\n",
    "h2 = Mod(int.from_bytes(hash2, byteorder=\"big\"), n)\n",
    "r1 = Mod(signature1[0], n)\n",
    "s1 = Mod(signature1[1], n)\n",
    "s2 = Mod(signature2[1], n)\n",
    "\n",
    "k = (h1 - h2) / (s1 - s2)\n",
    "\n",
    "privkey = (s1 * k - h1) / r1"
   ]
  },
  {
   "cell_type": "code",
   "execution_count": null,
   "id": "74d0ca0f",
   "metadata": {},
   "outputs": [],
   "source": [
    "computed_pubkey = curve.curve.affine_multiply(curve.generator.to_affine(), int(privkey))"
   ]
  },
  {
   "cell_type": "code",
   "execution_count": null,
   "id": "9cf47c90",
   "metadata": {},
   "outputs": [],
   "source": [
    "print(computed_pubkey)\n",
    "print(pubkey)"
   ]
  },
  {
   "cell_type": "code",
   "execution_count": null,
   "id": "8ea8fe26",
   "metadata": {},
   "outputs": [],
   "source": []
  }
 ],
 "metadata": {
  "kernelspec": {
   "display_name": "Python 3 (ipykernel)",
   "language": "python",
   "name": "python3"
  },
  "language_info": {
   "codemirror_mode": {
    "name": "ipython",
    "version": 3
   },
   "file_extension": ".py",
   "mimetype": "text/x-python",
   "name": "python",
   "nbconvert_exporter": "python",
   "pygments_lexer": "ipython3",
   "version": "3.11.3"
  }
 },
 "nbformat": 4,
 "nbformat_minor": 5
}
