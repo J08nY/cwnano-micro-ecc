{
 "cells": [
  {
   "cell_type": "markdown",
   "id": "add212c2",
   "metadata": {},
   "source": [
    "# Nonce bit-length leak attack (Minerva, TPM-FAIL, ...)"
   ]
  },
  {
   "cell_type": "code",
   "execution_count": 1,
   "id": "563d9bb5",
   "metadata": {},
   "outputs": [],
   "source": [
    "from fpylll import LLL, BKZ, IntegerMatrix"
   ]
  },
  {
   "cell_type": "code",
   "execution_count": null,
   "id": "c1761067",
   "metadata": {},
   "outputs": [],
   "source": []
  }
 ],
 "metadata": {
  "kernelspec": {
   "display_name": "SageMath 9.8",
   "language": "sage",
   "name": "sagemath"
  },
  "language_info": {
   "codemirror_mode": {
    "name": "ipython",
    "version": 3
   },
   "file_extension": ".py",
   "mimetype": "text/x-python",
   "name": "python",
   "nbconvert_exporter": "python",
   "pygments_lexer": "ipython3",
   "version": "3.11.3"
  }
 },
 "nbformat": 4,
 "nbformat_minor": 5
}
