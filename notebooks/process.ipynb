{
 "cells": [
  {
   "cell_type": "markdown",
   "id": "31b33e51",
   "metadata": {},
   "source": [
    "# Trace processing\n",
    "\n",
    "See [neuromancer.sk/pyecsca/](https://neuromancer.sk/pyecsca/) for docs. Also, you can open the help on a given function by typing `function_name?` into an empty cell and running it."
   ]
  },
  {
   "cell_type": "code",
   "execution_count": null,
   "id": "095ff3af",
   "metadata": {},
   "outputs": [],
   "source": [
    "from pyecsca.sca.trace_set import PickleTraceSet\n",
    "from pyecsca.sca.trace.process import rolling_mean, absolute, threshold, normalize\n",
    "from pyecsca.sca.trace.plot import plot_trace, plot_traces\n",
    "from pyecsca.sca.trace.match import match_pattern\n",
    "from pyecsca.sca.trace.edit import trim, pad\n",
    "import holoviews as hv\n",
    "\n",
    "import warnings\n",
    "warnings.filterwarnings('ignore')\n",
    "warnings.simplefilter('ignore')\n",
    "hv.extension(\"bokeh\")"
   ]
  },
  {
   "cell_type": "markdown",
   "id": "a3ad16b6",
   "metadata": {},
   "source": [
    "Load the trace set."
   ]
  },
  {
   "cell_type": "code",
   "execution_count": null,
   "id": "327bae42",
   "metadata": {},
   "outputs": [],
   "source": [
    "trace_set = PickleTraceSet.read(\"traces.pickle\")"
   ]
  },
  {
   "cell_type": "markdown",
   "id": "156451a8",
   "metadata": {},
   "source": [
    "Compare `traces[0]` and `traces[2]` using the `plot_traces` function at around samples number 850 to 1100.\n",
    "The traces might be misaligned, so you may want to use the `trim` or `pad` function to trim one of them at the start or pad the other. This area corresponds to the `uECC_vli_numbits` call in the `uECC_leak.c` file.\n",
    "\n",
    "Count what you see and map your observation to the code of the function and the underlying nonce used."
   ]
  },
  {
   "cell_type": "code",
   "execution_count": null,
   "id": "affbb65e",
   "metadata": {},
   "outputs": [],
   "source": [
    "plot_traces(trace_set[0], trace_set[2]).opts(width=950, height=400)"
   ]
  },
  {
   "cell_type": "markdown",
   "id": "6b14574b",
   "metadata": {},
   "source": [
    "Now, you have several ways of estimating the bit-length from the leakage you can observe. First of all, try a rolling mean over the absolute value version of both traces and observe how it looks. Could you now extract the information (proxy of the nonce bit-length) by using a threshold?"
   ]
  },
  {
   "cell_type": "code",
   "execution_count": null,
   "id": "fbc1fc33",
   "metadata": {},
   "outputs": [],
   "source": [
    "#TODO: Implement the above."
   ]
  },
  {
   "cell_type": "markdown",
   "id": "1d14ba12",
   "metadata": {},
   "source": [
    "The traces you collected allow you to ~cheat a bit~ check your results as they contain the nonce used in the signatures (computed from knowing the PRNG state). For a `Trace t` you can look into `t.meta[\"nonce\"]` to obtain the nonce. Now, try to automate the technique above, loop over all of the traces in the trace set, compute the proxy value and compare it to the bit-length of the nonce."
   ]
  },
  {
   "cell_type": "code",
   "execution_count": null,
   "id": "7742f90d",
   "metadata": {},
   "outputs": [],
   "source": [
    "#TODO: Implement the above."
   ]
  },
  {
   "cell_type": "markdown",
   "id": "842d3008",
   "metadata": {},
   "source": [
    "You can try to refine your proxy by adjusting the thresholds, window size or trying other techniques like pattern matching. Once you have done so, iterate over the traces again and store the proxy value in the `meta` dictionary.\n",
    "Then, save the trace set so that you can use it in the `nonce_bitlength_leak` notebook."
   ]
  },
  {
   "cell_type": "code",
   "execution_count": null,
   "id": "49d99eb0",
   "metadata": {},
   "outputs": [],
   "source": [
    "#TODO: Implement the above."
   ]
  }
 ],
 "metadata": {
  "kernelspec": {
   "display_name": "Python 3 (ipykernel)",
   "language": "python",
   "name": "python3"
  },
  "language_info": {
   "codemirror_mode": {
    "name": "ipython",
    "version": 3
   },
   "file_extension": ".py",
   "mimetype": "text/x-python",
   "name": "python",
   "nbconvert_exporter": "python",
   "pygments_lexer": "ipython3",
   "version": "3.11.3"
  }
 },
 "nbformat": 4,
 "nbformat_minor": 5
}
