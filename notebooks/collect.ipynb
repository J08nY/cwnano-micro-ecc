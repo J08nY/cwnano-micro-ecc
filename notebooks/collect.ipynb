{
 "cells": [
  {
   "cell_type": "markdown",
   "id": "074c0c29",
   "metadata": {},
   "source": [
    "# Trace collection"
   ]
  },
  {
   "cell_type": "code",
   "execution_count": null,
   "id": "a3dd2f91",
   "metadata": {},
   "outputs": [],
   "source": [
    "import time\n",
    "import holoviews as hv\n",
    "import numpy as np\n",
    "from hashlib import sha1\n",
    "from tqdm.notebook import tqdm\n",
    "from pyecsca.sca.trace_set import PickleTraceSet\n",
    "from pyecsca.sca.trace import Trace\n",
    "from pyecsca.sca.trace.plot import plot_trace, plot_traces\n",
    "from pyecsca.ec.params import get_params\n",
    "\n",
    "from client import DeviceTarget\n",
    "from utils import xorshift32\n",
    "\n",
    "import warnings\n",
    "warnings.filterwarnings('ignore')\n",
    "warnings.simplefilter('ignore')\n",
    "hv.extension(\"bokeh\")\n",
    "\n",
    "curve = get_params(\"nist\", \"P-192\", \"projective\")"
   ]
  },
  {
   "cell_type": "markdown",
   "id": "3c018f50",
   "metadata": {},
   "source": [
    "Setup the target, runs at frequency of 15MHz. This is also set in the code via the `F_CPU` define in `hal/Makefile.hal`, so changing it here will mess things up."
   ]
  },
  {
   "cell_type": "code",
   "execution_count": null,
   "id": "cf8ee9db",
   "metadata": {},
   "outputs": [],
   "source": [
    "target = DeviceTarget()\n",
    "\n",
    "target.timeout = 2000\n",
    "base_freq = 15000000\n",
    "target.scope.io.clkout = base_freq\n",
    "target.scope.adc.clk_freq = base_freq\n",
    "target.scope.adc.samples = 2000"
   ]
  },
  {
   "cell_type": "markdown",
   "id": "9fb7d02a",
   "metadata": {},
   "source": [
    "Flash the target with the firmware, takes about 50 seconds.\n",
    "Only needed if the code changed.\n",
    "Need to run `make` first."
   ]
  },
  {
   "cell_type": "code",
   "execution_count": null,
   "id": "ad1bb34d",
   "metadata": {},
   "outputs": [],
   "source": [
    "target.flash(\"../micro-ecc-CWNANO.hex\")"
   ]
  },
  {
   "cell_type": "markdown",
   "id": "fd77d80e",
   "metadata": {},
   "source": [
    "Connect to the target."
   ]
  },
  {
   "cell_type": "code",
   "execution_count": null,
   "id": "45c8b49b",
   "metadata": {},
   "outputs": [],
   "source": [
    "target.connect()"
   ]
  },
  {
   "cell_type": "markdown",
   "id": "d2711edb",
   "metadata": {},
   "source": [
    "Initialize the PRNG on the target."
   ]
  },
  {
   "cell_type": "code",
   "execution_count": null,
   "id": "1aab0034",
   "metadata": {},
   "outputs": [],
   "source": [
    "seed = bytes.fromhex(\"cafebabe\")\n",
    "target.init_prng(seed)"
   ]
  },
  {
   "cell_type": "markdown",
   "id": "0d43fe68",
   "metadata": {},
   "source": [
    "Generate a keypair on the target."
   ]
  },
  {
   "cell_type": "code",
   "execution_count": null,
   "id": "8e0643e1",
   "metadata": {},
   "outputs": [],
   "source": [
    "target.generate_keypair()"
   ]
  },
  {
   "cell_type": "markdown",
   "id": "117ec4c9",
   "metadata": {},
   "source": [
    "Export the public key."
   ]
  },
  {
   "cell_type": "code",
   "execution_count": null,
   "id": "d1899976",
   "metadata": {},
   "outputs": [],
   "source": [
    "pubkey = target.export()\n",
    "print(pubkey)"
   ]
  },
  {
   "cell_type": "markdown",
   "id": "0010617d",
   "metadata": {},
   "source": [
    "Pick and hash a message."
   ]
  },
  {
   "cell_type": "code",
   "execution_count": null,
   "id": "75bfdfa4",
   "metadata": {},
   "outputs": [],
   "source": [
    "msg = b\"This is the message\"\n",
    "hash = sha1(msg).digest()"
   ]
  },
  {
   "cell_type": "markdown",
   "id": "5f9fcf2c",
   "metadata": {},
   "source": [
    "Collect the traces, storing the signatures and duration for each trace. Since we know the PRNG, we can compute the\n",
    "nonce the implementation is using and store it as well."
   ]
  },
  {
   "cell_type": "code",
   "execution_count": null,
   "id": "b60f6fb5",
   "metadata": {},
   "outputs": [],
   "source": [
    "traces = []\n",
    "target.init_prng(bytes.fromhex(\"deadbeef\"))\n",
    "x = xorshift32(0xdeadbeef)\n",
    "\n",
    "for i in tqdm(range(10)):\n",
    "    # Arm and start the timer\n",
    "    target.scope.arm()\n",
    "    start = time.perf_counter()\n",
    "    \n",
    "    # Do the signature\n",
    "    signature = target.sign(hash)\n",
    "    \n",
    "    # Stop the timer\n",
    "    end = time.perf_counter()\n",
    "    duration = end - start\n",
    "    \n",
    "    # Collect the trace\n",
    "    target.scope.capture()\n",
    "    \n",
    "    # Use the known PRNG state to compute the used nonce (cheating)\n",
    "    nonce = int.from_bytes(x.next_bytes(24), byteorder=\"little\") % curve.order\n",
    "    \n",
    "    # Store everything in metadata\n",
    "    meta = {\n",
    "        \"signature\": signature,\n",
    "        \"duration\": duration,\n",
    "        \"nonce\": nonce,\n",
    "        \"blen\": nonce.bit_length()\n",
    "    }\n",
    "    trace = Trace(samples=target.scope.get_last_trace(), meta=meta)\n",
    "    traces.append(trace)\n",
    "trace_set = PickleTraceSet(*traces, pubkey=pubkey, hash=hash, msg=msg)"
   ]
  },
  {
   "cell_type": "markdown",
   "id": "7f6d4114",
   "metadata": {},
   "source": [
    "Stop the target and disconnect from it. If you want to connect to it again you need to run `target.reset()` and `target.connect()`."
   ]
  },
  {
   "cell_type": "code",
   "execution_count": null,
   "id": "72d53fb3",
   "metadata": {},
   "outputs": [],
   "source": [
    "target.halt()\n",
    "target.disconnect()"
   ]
  },
  {
   "cell_type": "markdown",
   "id": "6adb427c",
   "metadata": {},
   "source": [
    "Plot a couple of traces."
   ]
  },
  {
   "cell_type": "code",
   "execution_count": null,
   "id": "a710eee3",
   "metadata": {},
   "outputs": [],
   "source": [
    "plot_traces(*traces[:2]).opts(width=950, height=600)"
   ]
  },
  {
   "cell_type": "markdown",
   "id": "08c9b7f9",
   "metadata": {},
   "source": [
    "Save the trace set."
   ]
  },
  {
   "cell_type": "code",
   "execution_count": null,
   "id": "63f11f2b",
   "metadata": {},
   "outputs": [],
   "source": [
    "trace_set.write(\"traces_new.pickle\")"
   ]
  },
  {
   "cell_type": "markdown",
   "id": "d60bd94f",
   "metadata": {},
   "source": [
    "Verify some signatures."
   ]
  },
  {
   "cell_type": "code",
   "execution_count": null,
   "id": "75bba25c",
   "metadata": {},
   "outputs": [],
   "source": [
    "from utils import verify_signature"
   ]
  },
  {
   "cell_type": "code",
   "execution_count": null,
   "id": "2ab6c0f1",
   "metadata": {
    "scrolled": true
   },
   "outputs": [],
   "source": [
    "for trace in trace_set[:10]:\n",
    "    print(verify_signature(trace_set.pubkey, trace.meta[\"signature\"], hash))"
   ]
  },
  {
   "cell_type": "code",
   "execution_count": null,
   "id": "e7b7111b",
   "metadata": {},
   "outputs": [],
   "source": []
  }
 ],
 "metadata": {
  "kernelspec": {
   "display_name": "Python 3 (ipykernel)",
   "language": "python",
   "name": "python3"
  },
  "language_info": {
   "codemirror_mode": {
    "name": "ipython",
    "version": 3
   },
   "file_extension": ".py",
   "mimetype": "text/x-python",
   "name": "python",
   "nbconvert_exporter": "python",
   "pygments_lexer": "ipython3",
   "version": "3.11.3"
  }
 },
 "nbformat": 4,
 "nbformat_minor": 5
}
