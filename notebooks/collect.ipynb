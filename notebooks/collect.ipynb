{
 "cells": [
  {
   "cell_type": "markdown",
   "id": "074c0c29",
   "metadata": {},
   "source": [
    "# Trace collection"
   ]
  },
  {
   "cell_type": "code",
   "execution_count": null,
   "id": "a3dd2f91",
   "metadata": {},
   "outputs": [],
   "source": [
    "import time\n",
    "import holoviews as hv\n",
    "import numpy as np\n",
    "from hashlib import sha1\n",
    "from tqdm.notebook import tqdm\n",
    "from pyecsca.sca.trace_set import PickleTraceSet\n",
    "from pyecsca.sca.trace import Trace\n",
    "from pyecsca.sca.trace.plot import plot_trace, plot_traces\n",
    "\n",
    "from client import DeviceTarget\n",
    "\n",
    "import warnings\n",
    "warnings.filterwarnings('ignore')\n",
    "warnings.simplefilter('ignore')\n",
    "hv.extension(\"bokeh\")"
   ]
  },
  {
   "cell_type": "markdown",
   "id": "3c018f50",
   "metadata": {},
   "source": [
    "Setup the target, runs at frequency of 15MHz. This is also set in the code via the `F_CPU` define in `hal/Makefile.hal`."
   ]
  },
  {
   "cell_type": "code",
   "execution_count": null,
   "id": "cf8ee9db",
   "metadata": {},
   "outputs": [],
   "source": [
    "target = DeviceTarget()\n",
    "\n",
    "target.timeout = 2000\n",
    "base_freq = 15000000\n",
    "target.scope.io.clkout = base_freq\n",
    "target.scope.adc.clk_freq = base_freq\n",
    "target.scope.adc.samples = 50000"
   ]
  },
  {
   "cell_type": "markdown",
   "id": "9fb7d02a",
   "metadata": {},
   "source": [
    "Flash the target with the firmware, takes about 50 seconds.\n",
    "Only needed if the code changed.\n",
    "Need to run `make` first."
   ]
  },
  {
   "cell_type": "code",
   "execution_count": null,
   "id": "ad1bb34d",
   "metadata": {},
   "outputs": [],
   "source": [
    "target.flash(\"../micro-ecc-CWNANO.hex\")"
   ]
  },
  {
   "cell_type": "markdown",
   "id": "fd77d80e",
   "metadata": {},
   "source": [
    "Connect to the target."
   ]
  },
  {
   "cell_type": "code",
   "execution_count": null,
   "id": "45c8b49b",
   "metadata": {},
   "outputs": [],
   "source": [
    "target.connect()"
   ]
  },
  {
   "cell_type": "markdown",
   "id": "d2711edb",
   "metadata": {},
   "source": [
    "Initialize the PRNG on the target."
   ]
  },
  {
   "cell_type": "code",
   "execution_count": null,
   "id": "1aab0034",
   "metadata": {},
   "outputs": [],
   "source": [
    "seed = bytes.fromhex(\"cafebabe\")\n",
    "target.init_prng(seed)"
   ]
  },
  {
   "cell_type": "markdown",
   "id": "0d43fe68",
   "metadata": {},
   "source": [
    "Generate a keypair on the target."
   ]
  },
  {
   "cell_type": "code",
   "execution_count": null,
   "id": "8e0643e1",
   "metadata": {},
   "outputs": [],
   "source": [
    "target.generate_keypair()"
   ]
  },
  {
   "cell_type": "markdown",
   "id": "117ec4c9",
   "metadata": {},
   "source": [
    "Export the public key."
   ]
  },
  {
   "cell_type": "code",
   "execution_count": null,
   "id": "d1899976",
   "metadata": {},
   "outputs": [],
   "source": [
    "pubkey = target.export()\n",
    "print(pubkey)"
   ]
  },
  {
   "cell_type": "markdown",
   "id": "0010617d",
   "metadata": {},
   "source": [
    "Pick and hash a message."
   ]
  },
  {
   "cell_type": "code",
   "execution_count": null,
   "id": "75bfdfa4",
   "metadata": {},
   "outputs": [],
   "source": [
    "msg = b\"This is the message\"\n",
    "hash = sha1(msg).digest()"
   ]
  },
  {
   "cell_type": "markdown",
   "id": "5f9fcf2c",
   "metadata": {},
   "source": [
    "Collect the traces, storing the signatures and duration for each trace."
   ]
  },
  {
   "cell_type": "code",
   "execution_count": null,
   "id": "b60f6fb5",
   "metadata": {},
   "outputs": [],
   "source": [
    "traces = []\n",
    "for i in tqdm(range(10)):\n",
    "    target.scope.arm()\n",
    "    start = time.perf_counter()\n",
    "    \n",
    "    signature = target.sign(hash)\n",
    "    \n",
    "    end = time.perf_counter()\n",
    "    duration = end - start\n",
    "    \n",
    "    target.scope.capture()\n",
    "    \n",
    "    meta = {\n",
    "        \"signature\": signature,\n",
    "        \"duration\": duration\n",
    "    }\n",
    "    trace = Trace(samples=target.scope.get_last_trace(), meta=meta)\n",
    "    traces.append(trace)\n",
    "trace_set = PickleTraceSet(*traces, pubkey=pubkey, hash=hash, msg=msg)"
   ]
  },
  {
   "cell_type": "markdown",
   "id": "7f6d4114",
   "metadata": {},
   "source": [
    "Stop the target and disconnect from it. If you want to connect to it again you need to run `target.reset()` and `target.connect()`."
   ]
  },
  {
   "cell_type": "code",
   "execution_count": null,
   "id": "72d53fb3",
   "metadata": {},
   "outputs": [],
   "source": [
    "target.halt()\n",
    "target.disconnect()"
   ]
  },
  {
   "cell_type": "markdown",
   "id": "6adb427c",
   "metadata": {},
   "source": [
    "Plot a couple of traces."
   ]
  },
  {
   "cell_type": "code",
   "execution_count": null,
   "id": "a710eee3",
   "metadata": {
    "scrolled": false
   },
   "outputs": [],
   "source": [
    "plot_traces(*traces[:2]).opts(width=950, height=600)"
   ]
  },
  {
   "cell_type": "markdown",
   "id": "8bd8ea15",
   "metadata": {},
   "source": [
    "Save the trace set."
   ]
  },
  {
   "cell_type": "code",
   "execution_count": null,
   "id": "63f11f2b",
   "metadata": {},
   "outputs": [],
   "source": [
    "trace_set.write(\"traces.pickle\")"
   ]
  },
  {
   "cell_type": "markdown",
   "id": "db9178d7",
   "metadata": {},
   "source": [
    "Verify the signatures."
   ]
  },
  {
   "cell_type": "code",
   "execution_count": null,
   "id": "3ada9b69",
   "metadata": {},
   "outputs": [],
   "source": [
    "from client import verify_signature"
   ]
  },
  {
   "cell_type": "code",
   "execution_count": null,
   "id": "85b02c10",
   "metadata": {
    "scrolled": true
   },
   "outputs": [],
   "source": [
    "for trace in trace_set:\n",
    "    print(verify_signature(trace_set.pubkey, trace.meta[\"signature\"], hash))"
   ]
  }
 ],
 "metadata": {
  "kernelspec": {
   "display_name": "Python 3 (ipykernel)",
   "language": "python",
   "name": "python3"
  },
  "language_info": {
   "codemirror_mode": {
    "name": "ipython",
    "version": 3
   },
   "file_extension": ".py",
   "mimetype": "text/x-python",
   "name": "python",
   "nbconvert_exporter": "python",
   "pygments_lexer": "ipython3",
   "version": "3.11.3"
  }
 },
 "nbformat": 4,
 "nbformat_minor": 5
}
